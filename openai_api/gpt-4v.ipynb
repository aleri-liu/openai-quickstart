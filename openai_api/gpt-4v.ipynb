{
 "cells": [
  {
   "cell_type": "markdown",
   "id": "b4b6a552-b7f0-433d-9a70-61c4fcc52d5d",
   "metadata": {},
   "source": [
    "# 快速入门 GPT-4 Vison\n",
    "\n",
    "从历史上看，语言模型系统仅接受**文本**作为输入。但是单一的输入形式，限制了大模型的应用落地范围。\n",
    "\n",
    "随着技术发展，OpenAI 开发的 GPT-4 Turbo with Vision（简称 GPT-4V）允许模型接收**图像**作为输入，并回答关于它们的问题。\n",
    "\n",
    "📢注意，目前在 Assistants API 中使用 GPT-4 时还不支持图像输入。"
   ]
  },
  {
   "cell_type": "markdown",
   "id": "3a701c56-0a2a-4dea-b458-234150b84ff2",
   "metadata": {},
   "source": [
    "## 使用 GPT-4V 识别线上图像（URL）\n",
    "\n",
    "![image_sample](https://upload.wikimedia.org/wikipedia/commons/thumb/d/dd/Gfp-wisconsin-madison-the-nature-boardwalk.jpg/2560px-Gfp-wisconsin-madison-the-nature-boardwalk.jpg)"
   ]
  },
  {
   "cell_type": "code",
   "execution_count": 27,
   "id": "ce9b2fa1-ac00-4330-aeb2-62581f57929e",
   "metadata": {},
   "outputs": [],
   "source": [
    "from openai import OpenAI\n",
    "client = OpenAI()\n"
   ]
  },
  {
   "cell_type": "code",
   "execution_count": 28,
   "id": "bf8689b2-94f2-4a35-a332-9ffed0a56aca",
   "metadata": {},
   "outputs": [
    {
     "name": "stdout",
     "output_type": "stream",
     "text": [
      "Choice(finish_reason='stop', index=0, logprobs=None, message=ChatCompletionMessage(content='这幅图展示了一条穿越田野的木质栈道。栈道两侧是郁郁葱葱的绿色草地和一些低矮的灌木。图像的背景是一片开阔的天空，布满了绵延的白云。光线明亮且自然，突出了这个景象的宁静与自然美。整个场景传递出一种平和与远离城市喧嚣的感觉，是一个引人入胜的自然景观。这样的栈道通常用于观赏自然风景，同时保护脆弱的地表不受游客行走的伤害。', role='assistant', function_call=None, tool_calls=None))\n"
     ]
    }
   ],
   "source": [
    "from openai import OpenAI\n",
    "client = OpenAI()\n",
    "\n",
    "response = client.chat.completions.create(\n",
    "  model=\"gpt-4-turbo\",\n",
    "  messages=[\n",
    "    {\n",
    "      \"role\": \"user\",\n",
    "      \"content\": [\n",
    "        {\"type\": \"text\", \"text\": \"介绍下这幅图?\"},\n",
    "        {\n",
    "          \"type\": \"image_url\",\n",
    "          \"image_url\": {\n",
    "            \"url\": \"https://upload.wikimedia.org/wikipedia/commons/thumb/d/dd/Gfp-wisconsin-madison-the-nature-boardwalk.jpg/2560px-Gfp-wisconsin-madison-the-nature-boardwalk.jpg\",\n",
    "          },\n",
    "        },\n",
    "      ],\n",
    "    }\n",
    "  ],\n",
    "  max_tokens=300,\n",
    ")\n",
    "\n",
    "print(response.choices[0])"
   ]
  },
  {
   "cell_type": "code",
   "execution_count": 29,
   "id": "9bcc9026-7485-428f-8269-ea9ae41405cb",
   "metadata": {},
   "outputs": [
    {
     "data": {
      "text/plain": [
       "'这幅图展示了一条穿越田野的木质栈道。栈道两侧是郁郁葱葱的绿色草地和一些低矮的灌木。图像的背景是一片开阔的天空，布满了绵延的白云。光线明亮且自然，突出了这个景象的宁静与自然美。整个场景传递出一种平和与远离城市喧嚣的感觉，是一个引人入胜的自然景观。这样的栈道通常用于观赏自然风景，同时保护脆弱的地表不受游客行走的伤害。'"
      ]
     },
     "execution_count": 29,
     "metadata": {},
     "output_type": "execute_result"
    }
   ],
   "source": [
    "response.choices[0].message.content"
   ]
  },
  {
   "cell_type": "markdown",
   "id": "7fb50a14-fa14-4c63-9f81-b98b0f65d9d9",
   "metadata": {},
   "source": [
    "### 封装成一个函数 query_image_description"
   ]
  },
  {
   "cell_type": "code",
   "execution_count": 30,
   "id": "c1ca5428-c7e1-4d7e-91f1-d4a05e95ac51",
   "metadata": {},
   "outputs": [],
   "source": [
    "def query_image_description(url, prompt=\"介绍下这幅图?\"):\n",
    "    # client = OpenAI()  # 初始化 OpenAI 客户端\n",
    "    \n",
    "    # 发送请求给 OpenAI 的聊天模型\n",
    "    response = client.chat.completions.create(\n",
    "        model=\"gpt-4-turbo\",  # 指定使用的模型\n",
    "        messages=[\n",
    "            {\n",
    "                \"role\": \"user\",\n",
    "                \"content\": [\n",
    "                    {\"type\": \"text\", \"text\": prompt},\n",
    "                    {\"type\": \"image_url\", \"image_url\": {\"url\": url}},\n",
    "                ],\n",
    "            }\n",
    "        ],\n",
    "        max_tokens=300,\n",
    "    )\n",
    "    \n",
    "    # 返回模型的响应\n",
    "    return response.choices[0].message.content\n"
   ]
  },
  {
   "cell_type": "markdown",
   "id": "a0d0aceb-7cc5-4da1-b6db-e47716ba145a",
   "metadata": {},
   "source": [
    "### 调用函数测试\n",
    "\n",
    "![meme_0](https://p6.itc.cn/q_70/images03/20200602/0c267a0d3d814c9783659eb956969ba1.jpeg)"
   ]
  },
  {
   "cell_type": "code",
   "execution_count": 31,
   "id": "454abb5c-49d3-42e6-867e-f44e25af5e0e",
   "metadata": {},
   "outputs": [
    {
     "name": "stdout",
     "output_type": "stream",
     "text": [
      "这幅图是一个幽默图，通过对比展示了两种极端的狗狗形象。左侧的狗被描绘成具有非常夸张的肌肉和人类体形的生物，标签为“16岁的我——工作后的我”，上面有几句话描述它强壮、主动、自信以及具有领导者品质。\n",
      "\n",
      "右侧的狗则看起来更为普通、柔弱，被标识为体现了工作后的现状：经历世事的辛酸，感到身心疲惫且略显沮丧。\n",
      "\n",
      "这个幽默图显然是用来表达人们对青春时期的理想和工作后实际状态的戏剧化对比，通过幽默的形式表达了成年后面临的压力和变化。\n"
     ]
    }
   ],
   "source": [
    "image_url = \"https://p6.itc.cn/q_70/images03/20200602/0c267a0d3d814c9783659eb956969ba1.jpeg\"\n",
    "content = query_image_description(image_url)\n",
    "print(content)"
   ]
  },
  {
   "cell_type": "code",
   "execution_count": null,
   "id": "af79850f-83b5-49c4-a3f3-f2c01a28f458",
   "metadata": {},
   "outputs": [],
   "source": []
  },
  {
   "cell_type": "markdown",
   "id": "63ae05bd-872c-4638-8259-df4f420aaa1d",
   "metadata": {},
   "source": [
    "### 使用 GPT-4V 识别本地图像文件（Base64编码）\n"
   ]
  },
  {
   "cell_type": "code",
   "execution_count": 32,
   "id": "1e83da68-d387-46da-8236-78fc607d1fab",
   "metadata": {},
   "outputs": [],
   "source": [
    "from openai import OpenAI\n",
    "import base64\n",
    "import requests\n",
    "import json\n",
    "\n",
    "# client = OpenAI()  # 初始化 OpenAI 客户端\n",
    "\n",
    "\n",
    "def query_base64_image_description(image_path, prompt=\"解释下图里的内容？\", max_tokens=1000):\n",
    "\n",
    "    # 实现 Base64 编码\n",
    "    def encode_image(path):\n",
    "        with open(path, \"rb\") as image_file:\n",
    "            return base64.b64encode(image_file.read()).decode('utf-8')\n",
    "\n",
    "    # 获取图像的 Base64 编码字符串\n",
    "    base64_image = encode_image(image_path)\n",
    "\n",
    "    # 构造请求的 HTTP Header\n",
    "    headers = {\n",
    "        \"Content-Type\": \"application/json\",\n",
    "        \"Authorization\": f\"Bearer {client.api_key}\"\n",
    "    }\n",
    "\n",
    "    # 构造请求的负载\n",
    "    payload = {\n",
    "        \"model\": \"gpt-4-turbo\",\n",
    "        \"messages\": [\n",
    "            {\n",
    "                \"role\": \"user\",\n",
    "                \"content\": [\n",
    "                    {\"type\": \"text\", \"text\": prompt},\n",
    "                    {\"type\": \"image_url\", \"image_url\": {\"url\": f\"data:image/jpeg;base64,{base64_image}\"}}\n",
    "                ]\n",
    "            }\n",
    "        ],\n",
    "        \"max_tokens\": max_tokens\n",
    "    }\n",
    "\n",
    "    # 发送 HTTP 请求\n",
    "    response = requests.post(\"https://api.xiaoai.plus/v1/chat/completions\", headers=headers, json=payload)\n",
    "\n",
    "    # 检查响应并提取所需的 content 字段\n",
    "    if response.status_code == 200:\n",
    "        response_data = response.json()\n",
    "        content = response_data['choices'][0]['message']['content']\n",
    "        return content\n",
    "    else:\n",
    "        return f\"Error: {response.status_code}, {response.text}\""
   ]
  },
  {
   "cell_type": "markdown",
   "id": "89dd0f99-8086-473f-80a4-497e6dd07c17",
   "metadata": {},
   "source": [
    "#### 使用 Assistants API生成的 GDP 40年对比曲线图\n",
    "\n",
    "![gdp_data](./images/gdp_1980_2020.jpg)"
   ]
  },
  {
   "cell_type": "code",
   "execution_count": 33,
   "id": "3c0e9063-e8d9-4bc1-ae60-ad0aa5bee32b",
   "metadata": {},
   "outputs": [
    {
     "name": "stdout",
     "output_type": "stream",
     "text": [
      "这幅图显示了1980年到2020年间美国、中国、日本和德国的国内生产总值（GDP）比较。横轴代表年份，纵轴代表GDP，单位是万亿美元。\n",
      "\n",
      "从图中我们可以看到以下几点：\n",
      "1. 美国的GDP在这40年间持续增长，领先于其他三国。\n",
      "2. 中国的GDP增长非常迅速，尤其是从2000年之后，其增长速度显著加快，到大约2010年追上并超过日本。\n",
      "3. 日本的GDP在1990年代早期达到高峰后，增长放缓，之后相对平稳。\n",
      "4. 德国的GDP增长相对稳定，但增速较慢，始终保持在较低的水平。\n",
      "\n",
      "通过这个图可以直观地看出各国经济发展的不同阶段和速度，特别是中国的快速崛起以及经济全球化进程中不同国家的变化。\n"
     ]
    }
   ],
   "source": [
    "content = query_base64_image_description(\"./images/gdp_1980_2020.jpg\")\n",
    "print(content)"
   ]
  },
  {
   "cell_type": "markdown",
   "id": "6d18b227-32a6-4450-86bd-c99ad5c533b9",
   "metadata": {},
   "source": [
    "#### 使用 GPT-4V 识别手写体笔记\n",
    "\n",
    "![](./images/handwriting_0.jpg)"
   ]
  },
  {
   "cell_type": "code",
   "execution_count": 34,
   "id": "4193fa11-5edd-404c-9472-0cb8cc6799fc",
   "metadata": {},
   "outputs": [
    {
     "name": "stdout",
     "output_type": "stream",
     "text": [
      "这张图是一本笔记本上的手写笔记，内容跟自然语言处理（NLP）有关。笔记介绍了几种用于优化和调整预训练语言模型的方法，特别是在使用较小的模型时。具体内容包括：\n",
      "\n",
      "1. **Prompt Tuning（提示调整）**: 这是一种通过修改输入提示（输入前几个单词或词组）来调整模型的输出结果的技术。笔记中提到这通常用于较小的模型。\n",
      "\n",
      "2. **Prefix Tuning（前缀调整）**: 在这种技术中，将特定的前缀词向量加入到模型的输入中，以调整模型在处理输入数据时的行为。\n",
      "\n",
      "3. **LoRA（Low-Rank Adaptation，低秩适配）**: 通过修改模型权重的低秩矩阵来实现高效的模型调整，特别是在参数数量庞大的模型中，这种方法可以有效减少所需调整的参数数目。\n",
      "\n",
      "笔记还涉及了Q-LoRA 和模型大小优化的一些数据，比如 LLaMA-653G 模型和 QLoRA-48GB。\n",
      "\n",
      "总的来说，这些笔记显示了一些先进的技术，用于提升机器学习模型在特定任务上的表现，尤其是在资源有限的情况下。\n"
     ]
    }
   ],
   "source": [
    "content = query_base64_image_description(\"./images/handwriting_0.jpg\")\n",
    "print(content)"
   ]
  },
  {
   "cell_type": "markdown",
   "id": "ca046601-018c-455c-ace2-41392cbda456",
   "metadata": {},
   "source": [
    "#### 在 Jupyter 标准输出中渲染 Markdown 格式内容"
   ]
  },
  {
   "cell_type": "code",
   "execution_count": 35,
   "id": "516ee35b-1337-4b22-aea2-ee0adb706098",
   "metadata": {},
   "outputs": [
    {
     "data": {
      "text/markdown": [
       "这张图是一本笔记本上的手写笔记，内容跟自然语言处理（NLP）有关。笔记介绍了几种用于优化和调整预训练语言模型的方法，特别是在使用较小的模型时。具体内容包括：\n",
       "\n",
       "1. **Prompt Tuning（提示调整）**: 这是一种通过修改输入提示（输入前几个单词或词组）来调整模型的输出结果的技术。笔记中提到这通常用于较小的模型。\n",
       "\n",
       "2. **Prefix Tuning（前缀调整）**: 在这种技术中，将特定的前缀词向量加入到模型的输入中，以调整模型在处理输入数据时的行为。\n",
       "\n",
       "3. **LoRA（Low-Rank Adaptation，低秩适配）**: 通过修改模型权重的低秩矩阵来实现高效的模型调整，特别是在参数数量庞大的模型中，这种方法可以有效减少所需调整的参数数目。\n",
       "\n",
       "笔记还涉及了Q-LoRA 和模型大小优化的一些数据，比如 LLaMA-653G 模型和 QLoRA-48GB。\n",
       "\n",
       "总的来说，这些笔记显示了一些先进的技术，用于提升机器学习模型在特定任务上的表现，尤其是在资源有限的情况下。"
      ],
      "text/plain": [
       "<IPython.core.display.Markdown object>"
      ]
     },
     "metadata": {},
     "output_type": "display_data"
    }
   ],
   "source": [
    "from IPython.display import display, Markdown\n",
    "\n",
    "# 使用 display 和 Markdown 函数显示 Markdown 内容\n",
    "display(Markdown(content))"
   ]
  },
  {
   "cell_type": "markdown",
   "id": "b72ebbe3-87cc-4867-9cf0-62e5ed684482",
   "metadata": {},
   "source": [
    "![](./images/handwriting_1.jpg)"
   ]
  },
  {
   "cell_type": "code",
   "execution_count": 36,
   "id": "7c046958-aa7a-4066-88fa-4134869d9226",
   "metadata": {},
   "outputs": [
    {
     "data": {
      "text/markdown": [
       "这张图片显示的是一份笔记，内容主要围绕机器学习和自然语言处理特别是在变换模型（Transformers）的训练和调整方法。笔记中提及了多种技术和概念，其中包括：\n",
       "\n",
       "1.  **PEFT/SOTA** 和 **PBFT Methods**：提到了最先进（State of the Art，SOTA）的方法和可能指的是某种特定于预训练模型的调整技术。\n",
       "2.  **Prompt Tuning**：提到了利用提示进行模型微调的多种方法，如 Adapter、Prefix、和 Prompt tuning。这些都是近年来在处理预训练的大型语言模型（如GPT、BERT等）时常用的技术。\n",
       "3.  **硬提示（Hard Prompts） 和 模板提示 (Template-based Prompts)**：这可能是关于如何设计模型输入以引导模型生成特定类型输出的方法。\n",
       "4.  **Instruction Tuning**：涉及到指令性调整，即直接通过指令来优化模型的行为。\n",
       "5.  **模型名称**：像是LLaMA、ChatGLM、GPT-XL、RHF等，这些可能是指不同的语言模型或者其变种。\n",
       "6.  **LoRA, GLoRA, AdLoRA**：这些可能是不同的技术或方法，用于增强模型在特定任务上的表现或效率。\n",
       "7.  **MAM Adapters** 和 插入型形态（Insertion Form）等：讨论了模型的结构性调整和适配器层的应用。\n",
       "\n",
       "笔记右侧部分的内容被部分涂黑，显示作者可能在记录或总结某个具体的知识点时对内容进行了部分删除或修正。这份笔记反映了作者在自然语言处理领域学习和研究的深度，特别是在模型调整方法上的多样化和深入探讨。"
      ],
      "text/plain": [
       "<IPython.core.display.Markdown object>"
      ]
     },
     "metadata": {},
     "output_type": "display_data"
    }
   ],
   "source": [
    "content = query_base64_image_description(\"./images/handwriting_1.jpg\")\n",
    "display(Markdown(content))"
   ]
  },
  {
   "cell_type": "markdown",
   "id": "232ab2eb-2e9c-4fd1-9b2c-b8cc81cd9e66",
   "metadata": {},
   "source": [
    "![](./images/出行计划.jpg)"
   ]
  },
  {
   "cell_type": "code",
   "execution_count": 40,
   "id": "6f5881f9-ce97-448e-8fb5-149632781a18",
   "metadata": {},
   "outputs": [
    {
     "name": "stdout",
     "output_type": "stream",
     "text": [
      "图中的文字如下：\n",
      "\n",
      "行程表（7月21、22、23、24）。\n",
      "\n",
      "Day 1: 7月21日起程。\n",
      "\n",
      "① 11:05 — 13:30 纽约至费城（2小时35分钟） （MU2877，中转飞机）\n",
      "\n",
      "② 从机场在费城市环市内游览：\n",
      "\n",
      "- 钟楼游览（约20:00达，终\n",
      "\n",
      "- 从费城前往费城港一块拥有美丽的自然景色及动物园）\n",
      "\n",
      "   （重点注意：途径曼哈顿地区约12分钟，咖啡店）\n",
      "\n",
      "   - -\n",
      "\n",
      "③ 38.1业，行程大约37分钟。在动物园前玩耍，吃饭时间，中间稍事。\n",
      "\n",
      "   入游园。\n",
      "\n",
      "- 吃晚饭，SI阶段（勿忘带太阳眼镜）款50分鐘。\n",
      "\n",
      "   （76）\n",
      "\n",
      "  秘（素菜放凉6花味）\n",
      "\n",
      "   （务务期间多留些美国花园总23分钟，3小时。\n",
      "\n",
      "④ 各种动物包括旺节影14分钟，班吃。\n",
      "\n",
      "⑤ 表演结束分别在第二场15:10。\n",
      "\n",
      "⑥ 所有人在事务事务事务事务。\n",
      "\n",
      "   - 清点\n",
      "\n",
      "△ 睡一晚；早餐吃得！伦丹、不带撒瑞米枕头与枕头\n",
      "\n",
      "   1）床垫短时\n",
      "\n",
      "   2）枕头接触\n",
      "\n",
      "   3）福网紧缚\n",
      "\n",
      "   4）枕头表达\n",
      "\n",
      "   5）床单短缺\n",
      "\n",
      "   6）福网调整\n",
      "\n",
      "△ 第二次：\n",
      "\n",
      "   入场（1次）8:00—17:30；夜市7:30—20:30（形容询问2处）\n",
      "\n",
      "   大即空摆，先陷睡口一伤，花费近口说话行过，陆时\n",
      "\n",
      "   罗罗罗罗罗罗罗罗罗罗罗罗罗罗一单向\n",
      "\n",
      "   已有超600字的清单表。\n"
     ]
    }
   ],
   "source": [
    "\n",
    "content = query_base64_image_description(\"./images/出行计划.jpg\", prompt=\"识别一下图中的文字，不需要你概括内容，只需识别\")\n",
    "\n",
    "print(content)"
   ]
  },
  {
   "cell_type": "markdown",
   "id": "6070c33b-50ed-462f-8fa6-4957e94189a3",
   "metadata": {},
   "source": [
    "# 2\n",
    "整合 query_base64_image_description 函数和 Markdown"
   ]
  },
  {
   "cell_type": "code",
   "execution_count": 41,
   "id": "fa57aac3-0d88-405f-b99f-547b24093161",
   "metadata": {},
   "outputs": [
    {
     "data": {
      "text/markdown": [
       "```markdown\n",
       "待办事项（7月21、22、23、24）\n",
       "\n",
       "Day 1：7月21日星期日\n",
       "① 11:05 — 13:30 空闲时间（2小时35分钟）\n",
       "   （MU2877，中午飞机）\n",
       "② 吃饭及早关营业厅 13:20前、睡\n",
       "   从家起床后来单位一体检及交接旅程及交海关行李（根表交到交税12/6, 大厅）\n",
       "   （市表加交到交税37年表, 住街五层楼时换、快受街, 中山路。\n",
       "    生费区、S1及第名部部加上而（7记），未办记。\n",
       "    科（党表初记6记）\n",
       "    （务表初记已换记）在23时, 3分钟。\n",
       "    会检计书到生可能14:50分，返线。\n",
       "③ 文曲星查验车间 15:00-16:30。\n",
       "④ 没有良好天气, 谈心发声生预备。\n",
       "⑤ 时间表：思考！并不仅耿耿不息（城市院）已预定批改\n",
       "    1) 思考良声　　2) 适时素质　　3) 科学知识\n",
       "    4) 思考世界　　5) 思考质量　　6) 品纯素质\n",
       "△ 早上注意：回家（1趟 8:00-17:30; 东方 7:30-20:30）世康闭始24款\n",
       "   大明之前, 无康康一项, 区委开口回家谈授, 山势明察星看东参厂建, 山势就系屋翻阳台的一角窗。\n",
       "   2才600毫升有所需。\n",
       "```\n"
      ],
      "text/plain": [
       "<IPython.core.display.Markdown object>"
      ]
     },
     "metadata": {},
     "output_type": "display_data"
    }
   ],
   "source": [
    "from IPython.display import display, Markdown\n",
    "\n",
    "content = query_base64_image_description(\"./images/出行计划.jpg\", prompt=\"识别一下图中的文字，不需要你概括内容，只需识别,尽量以markdown方式展示\")\n",
    "display(Markdown(content))"
   ]
  },
  {
   "cell_type": "code",
   "execution_count": null,
   "id": "8afdeacb-aac1-4692-be2b-fb7957ba5e8f",
   "metadata": {},
   "outputs": [],
   "source": []
  },
  {
   "cell_type": "markdown",
   "id": "79a8d459-d98e-4215-9fbf-38ad37080475",
   "metadata": {},
   "source": [
    "## Homework: \n",
    "\n",
    "\n",
    "### #1\n",
    "\n",
    "使用 GPT-4V 识别带有手写体文字的本地图像文件，分享结果。\n",
    "\n",
    "### #2\n",
    "\n",
    "整合 `query_base64_image_description` 函数和 Markdown 格式渲染方法，使得输出结果更易阅读。"
   ]
  },
  {
   "cell_type": "code",
   "execution_count": null,
   "id": "0909bf27-9c4a-498c-9fae-0f442062b9a8",
   "metadata": {},
   "outputs": [],
   "source": []
  }
 ],
 "metadata": {
  "kernelspec": {
   "display_name": "Python 3 (ipykernel)",
   "language": "python",
   "name": "python3"
  },
  "language_info": {
   "codemirror_mode": {
    "name": "ipython",
    "version": 3
   },
   "file_extension": ".py",
   "mimetype": "text/x-python",
   "name": "python",
   "nbconvert_exporter": "python",
   "pygments_lexer": "ipython3",
   "version": "3.12.2"
  }
 },
 "nbformat": 4,
 "nbformat_minor": 5
}
